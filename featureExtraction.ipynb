{
 "cells": [
  {
   "cell_type": "code",
   "execution_count": 1,
   "metadata": {},
   "outputs": [],
   "source": [
    "from skimage import feature\n",
    "import cv2\n",
    "import numpy as np\n",
    "import os\n",
    "from skimage import feature\n",
    "import matplotlib.pyplot as plt\n",
    "from PIL import Image"
   ]
  },
  {
   "cell_type": "code",
   "execution_count": 2,
   "metadata": {},
   "outputs": [],
   "source": [
    "\n",
    "root_folder = \"preprocessed_data_\"\n",
    "\n",
    "# Đường dẫn thư mục đầu ra\n",
    "output_folder = \"final_image_\"\n",
    "def preprocess():\n",
    "    for subdir, _, files in os.walk(root_folder):\n",
    "        for file in files:\n",
    "            file_path = os.path.join(subdir, file)\n",
    "            img = cv2.imread(file_path)\n",
    "\n",
    "            height, width, _ = img.shape\n",
    "\n",
    "            # Kích thước cắt\n",
    "            crop_width, crop_height = 480, 480\n",
    "\n",
    "            # Tính toán tọa độ bắt đầu để có được vùng trung tâm\n",
    "            start_x = (width - crop_width) // 2\n",
    "            start_y = (height - crop_height) // 2\n",
    "\n",
    "            # Cắt ảnh\n",
    "            cropped_img = img[start_y:start_y+crop_height, start_x:start_x+crop_width]\n",
    "            # Làm mờ ảnh\n",
    "            blurred = cv2.GaussianBlur(cropped_img, (5, 5), 0)\n",
    "\n",
    "            # Phát hiện cạnh\n",
    "            edges = cv2.Canny(blurred, 750, 800)\n",
    "\n",
    "            # Loại bỏ các cạnh không mong muốn\n",
    "            kernel = np.ones((3, 3), np.uint8)\n",
    "            edges = cv2.morphologyEx(edges, cv2.MORPH_CLOSE, kernel)\n",
    "\n",
    "            # Tạo đường dẫn đến thư mục đầu ra\n",
    "            output_subdir = os.path.relpath(subdir, root_folder)\n",
    "            output_subfolder = os.path.join(output_folder, output_subdir)\n",
    "\n",
    "            # Tạo thư mục con trong thư mục đầu ra nếu chưa tồn tại\n",
    "            os.makedirs(output_subfolder, exist_ok=True)\n",
    "\n",
    "            # Tạo đường dẫn đến tệp tin đầu ra\n",
    "            output_path = os.path.join(output_subfolder, file)\n",
    "\n",
    "            # Lưu ảnh đã xử lý\n",
    "            cv2.imwrite(output_path, edges)\n",
    "\n",
    "    print(\"Processing complete.\")\n",
    "# preprocess()"
   ]
  },
  {
   "cell_type": "code",
   "execution_count": 3,
   "metadata": {},
   "outputs": [],
   "source": [
    "def extract_lbp_features(img):\n",
    "    if len(img.shape) == 3:\n",
    "        gray = cv2.cvtColor(img, cv2.COLOR_BGR2GRAY)\n",
    "    else:\n",
    "        gray = img.copy()\n",
    "    \n",
    "    # Thực hiện LBP\n",
    "    lbp = feature.local_binary_pattern(gray, P=8, R=1, method=\"uniform\")\n",
    "\n",
    "    # Tính histogram của các giá trị LBP\n",
    "    hist, _ = np.histogram(lbp.ravel(), bins=np.arange(0, 10), range=(0, 10))\n",
    "\n",
    "    # Chuẩn hóa histogram\n",
    "    hist = hist.astype(\"float\")\n",
    "    hist /= (hist.sum() + 1e-7)\n",
    "\n",
    "    return hist"
   ]
  },
  {
   "cell_type": "code",
   "execution_count": 4,
   "metadata": {},
   "outputs": [],
   "source": [
    "root_folder = \"final_image_\"\n",
    "\n",
    "# Dữ liệu features và nhãn\n",
    "features = []\n",
    "labels = []"
   ]
  },
  {
   "cell_type": "code",
   "execution_count": 5,
   "metadata": {},
   "outputs": [],
   "source": [
    "\n",
    "features = []\n",
    "labels = []\n",
    "\n",
    "# Duyệt qua từng thư mục con\n",
    "for subdir, _, files in os.walk(root_folder):\n",
    "    # Bỏ qua thư mục chính\n",
    "    if subdir == root_folder:\n",
    "        continue\n",
    "\n",
    "    label = os.path.basename(subdir)  # Nhãn của thư mục con\n",
    "    object_features = []  # Danh sách đặc trưng của đối tượng\n",
    "\n",
    "    # Duyệt qua từng tệp tin ảnh trong thư mục con\n",
    "    for file in files:\n",
    "        # Đường dẫn đầy đủ đến tệp tin ảnh\n",
    "        file_path = os.path.join(subdir, file)\n",
    "\n",
    "        # Đọc ảnh\n",
    "        img = cv2.imread(file_path)\n",
    "\n",
    "        # Trích xuất đặc trưng từ ảnh và thêm vào danh sách đặc trưng của đối tượng\n",
    "        img_features = extract_lbp_features(img)\n",
    "        object_features.append(img_features)\n",
    "\n",
    "    # Gộp các đặc trưng của đối tượng thành một giá trị duy nhất (ví dụ: trung bình)\n",
    "    object_features_mean = np.mean(object_features, axis=0)\n",
    "\n",
    "    # Thêm đặc trưng và nhãn của đối tượng vào danh sách chung\n",
    "    features.append(object_features_mean)\n",
    "    labels.append(label)\n"
   ]
  },
  {
   "cell_type": "code",
   "execution_count": 6,
   "metadata": {},
   "outputs": [
    {
     "name": "stdout",
     "output_type": "stream",
     "text": [
      "276\n"
     ]
    }
   ],
   "source": [
    "print(len(labels))"
   ]
  },
  {
   "cell_type": "code",
   "execution_count": 7,
   "metadata": {},
   "outputs": [],
   "source": [
    "import preprocess_"
   ]
  },
  {
   "cell_type": "code",
   "execution_count": 8,
   "metadata": {},
   "outputs": [],
   "source": [
    "def preprocess_image(input_path):\n",
    "    image = Image.open(input_path)\n",
    "    image = np.array(image)\n",
    "    image = cv2.cvtColor(image, cv2.COLOR_BGR2GRAY)\n",
    "    processed_image = preprocess_.process(image)\n",
    "    return processed_image\n",
    "# test = preprocess_image(test_path)\n"
   ]
  },
  {
   "cell_type": "code",
   "execution_count": 9,
   "metadata": {},
   "outputs": [],
   "source": [
    "database_features = features\n",
    "labels = labels"
   ]
  },
  {
   "cell_type": "code",
   "execution_count": 13,
   "metadata": {},
   "outputs": [],
   "source": [
    "\n",
    "def test(input_path,threshold):\n",
    "    image = Image.open(input_path)\n",
    "    image = np.array(image)\n",
    "    image = cv2.cvtColor(image, cv2.COLOR_BGR2GRAY)\n",
    "    test = preprocess_.process(image)\n",
    "    \n",
    "    height, width = test.shape\n",
    "\n",
    "    # Kích thước cắt\n",
    "    crop_width, crop_height = 480, 480\n",
    "\n",
    "    start_x = (width - crop_width) // 2\n",
    "    start_y = (height - crop_height) // 2\n",
    "\n",
    "    # Cắt ảnh\n",
    "    cropped_img = test[start_y:start_y+crop_height, start_x:start_x+crop_width]\n",
    "    # # Làm mờ ảnh\n",
    "    blurred = cv2.GaussianBlur(cropped_img, (5, 5), 0)\n",
    "\n",
    "    # Phát hiện cạnh\n",
    "    edges = cv2.Canny(blurred, 750, 800)\n",
    "\n",
    "    kernel = np.ones((3, 3), np.uint8)\n",
    "    edges_ = cv2.morphologyEx(edges, cv2.MORPH_CLOSE, kernel)\n",
    "    img_features = extract_lbp_features(edges_)\n",
    "\n",
    "    distances = np.linalg.norm(database_features - img_features, axis=1)\n",
    "\n",
    "    min_distance_index = np.argmin(distances)\n",
    "    if distances[min_distance_index] < threshold:\n",
    "        predicted_label = labels[min_distance_index]\n",
    "        print(f\"The image is predicted to be of the object: {predicted_label}\")\n",
    "    else:\n",
    "        print(\"No match found.\")\n"
   ]
  },
  {
   "cell_type": "code",
   "execution_count": 18,
   "metadata": {},
   "outputs": [
    {
     "name": "stdout",
     "output_type": "stream",
     "text": [
      "The image is predicted to be of the object: 027_L\n"
     ]
    }
   ],
   "source": [
    "test(\"image_test/027_L4.png\",0.1)"
   ]
  }
 ],
 "metadata": {
  "kernelspec": {
   "display_name": "Python 3",
   "language": "python",
   "name": "python3"
  },
  "language_info": {
   "codemirror_mode": {
    "name": "ipython",
    "version": 3
   },
   "file_extension": ".py",
   "mimetype": "text/x-python",
   "name": "python",
   "nbconvert_exporter": "python",
   "pygments_lexer": "ipython3",
   "version": "3.9.13"
  }
 },
 "nbformat": 4,
 "nbformat_minor": 2
}
