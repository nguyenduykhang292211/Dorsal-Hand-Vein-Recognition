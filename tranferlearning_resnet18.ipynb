{
 "cells": [
  {
   "cell_type": "code",
   "execution_count": 1,
   "metadata": {},
   "outputs": [],
   "source": [
    "from sklearn.model_selection import train_test_split\n",
    "import torch\n",
    "import torch.nn as nn\n",
    "import torch.optim as optim\n",
    "from torch.utils.data import DataLoader\n",
    "from torchvision import datasets, transforms, models\n",
    "from torchvision.transforms import RandomRotation, RandomHorizontalFlip, RandomVerticalFlip\n",
    "import cv2\n",
    "import numpy as np\n",
    "from torchvision.transforms import functional as F"
   ]
  },
  {
   "cell_type": "code",
   "execution_count": 2,
   "metadata": {},
   "outputs": [],
   "source": [
    "device = torch.device(\"cuda\" if torch.cuda.is_available() else \"cpu\")"
   ]
  },
  {
   "cell_type": "code",
   "execution_count": 3,
   "metadata": {},
   "outputs": [],
   "source": [
    "transform = transforms.Compose([\n",
    "    RandomRotation(degrees=15),\n",
    "    RandomHorizontalFlip(),\n",
    "    RandomVerticalFlip(),\n",
    "    transforms.ToTensor()\n",
    "])"
   ]
  },
  {
   "cell_type": "code",
   "execution_count": 4,
   "metadata": {},
   "outputs": [],
   "source": [
    "full_data = datasets.ImageFolder('final_image_', transform=transform)\n",
    "\n",
    "# Chia dữ liệu thành tập huấn luyện và tập kiểm thử\n",
    "train_size = int(0.8 * len(full_data))\n",
    "test_size = len(full_data) - train_size\n",
    "\n",
    "train_data, test_data = torch.utils.data.random_split(full_data, [train_size, test_size], generator=torch.Generator().manual_seed(42))\n",
    "# Kích thước batch cho DataLoader\n",
    "batch_size = 16\n",
    "\n",
    "# DataLoader cho tập huấn luyện\n",
    "train_loader = DataLoader(train_data, batch_size=batch_size, shuffle=True)\n",
    "\n",
    "# DataLoader cho tập kiểm thử\n",
    "test_loader = DataLoader(test_data, batch_size=batch_size, shuffle=False)\n",
    "# Sử dụng full_data để lấy số lớp\n",
    "num_classes = len(full_data.classes)"
   ]
  },
  {
   "cell_type": "code",
   "execution_count": 5,
   "metadata": {},
   "outputs": [
    {
     "name": "stderr",
     "output_type": "stream",
     "text": [
      "C:\\Users\\khang\\AppData\\Local\\Packages\\PythonSoftwareFoundation.Python.3.9_qbz5n2kfra8p0\\LocalCache\\local-packages\\Python39\\site-packages\\torchvision\\models\\_utils.py:208: UserWarning: The parameter 'pretrained' is deprecated since 0.13 and may be removed in the future, please use 'weights' instead.\n",
      "  warnings.warn(\n",
      "C:\\Users\\khang\\AppData\\Local\\Packages\\PythonSoftwareFoundation.Python.3.9_qbz5n2kfra8p0\\LocalCache\\local-packages\\Python39\\site-packages\\torchvision\\models\\_utils.py:223: UserWarning: Arguments other than a weight enum or `None` for 'weights' are deprecated since 0.13 and may be removed in the future. The current behavior is equivalent to passing `weights=ResNet18_Weights.IMAGENET1K_V1`. You can also use `weights=ResNet18_Weights.DEFAULT` to get the most up-to-date weights.\n",
      "  warnings.warn(msg)\n"
     ]
    }
   ],
   "source": [
    "model = models.resnet18(pretrained=True)"
   ]
  },
  {
   "cell_type": "code",
   "execution_count": 6,
   "metadata": {},
   "outputs": [],
   "source": [
    "\n",
    "model.fc = nn.Linear(model.fc.in_features, num_classes)"
   ]
  },
  {
   "cell_type": "code",
   "execution_count": 7,
   "metadata": {},
   "outputs": [],
   "source": [
    "model.train()\n",
    "\n",
    "# Chuyển mô hình sang thiết bị đã chọn\n",
    "model = model.to(device)"
   ]
  },
  {
   "cell_type": "code",
   "execution_count": 8,
   "metadata": {},
   "outputs": [],
   "source": [
    "criterion = nn.CrossEntropyLoss()\n",
    "optimizer = optim.Adam(model.parameters(), lr=0.001)\n"
   ]
  },
  {
   "cell_type": "code",
   "execution_count": 9,
   "metadata": {},
   "outputs": [
    {
     "name": "stdout",
     "output_type": "stream",
     "text": [
      "Epoch 1/30, Loss: 5.862392902374268\n",
      "Epoch 2/30, Loss: 5.62940788269043\n",
      "Epoch 3/30, Loss: 5.284804344177246\n",
      "Epoch 4/30, Loss: 5.09000825881958\n",
      "Epoch 5/30, Loss: 4.741026878356934\n",
      "Epoch 6/30, Loss: 5.006388187408447\n",
      "Epoch 7/30, Loss: 3.596548080444336\n",
      "Epoch 8/30, Loss: 3.6013269424438477\n",
      "Epoch 9/30, Loss: 3.257166862487793\n",
      "Epoch 10/30, Loss: 3.2902278900146484\n",
      "Epoch 11/30, Loss: 3.061940908432007\n",
      "Epoch 12/30, Loss: 2.4539942741394043\n",
      "Epoch 13/30, Loss: 3.2266414165496826\n",
      "Epoch 14/30, Loss: 2.1823763847351074\n",
      "Epoch 15/30, Loss: 1.0993390083312988\n",
      "Epoch 16/30, Loss: 1.0533106327056885\n",
      "Epoch 17/30, Loss: 1.1209958791732788\n",
      "Epoch 18/30, Loss: 0.7372565865516663\n",
      "Epoch 19/30, Loss: 0.5497615933418274\n",
      "Epoch 20/30, Loss: 0.7162706851959229\n",
      "Epoch 21/30, Loss: 0.6247117519378662\n",
      "Epoch 22/30, Loss: 0.4118223488330841\n",
      "Epoch 23/30, Loss: 0.306814044713974\n",
      "Epoch 24/30, Loss: 0.11563288420438766\n",
      "Epoch 25/30, Loss: 0.15393878519535065\n",
      "Epoch 26/30, Loss: 0.11133649945259094\n",
      "Epoch 27/30, Loss: 0.09103503078222275\n",
      "Epoch 28/30, Loss: 0.14164400100708008\n",
      "Epoch 29/30, Loss: 0.09623401612043381\n",
      "Epoch 30/30, Loss: 0.036567360162734985\n"
     ]
    }
   ],
   "source": [
    "num_epochs = 30\n",
    "\n",
    "for epoch in range(num_epochs):\n",
    "    for images, labels in train_loader:\n",
    "        images, labels = images.to(device), labels.to(device)\n",
    "\n",
    "        optimizer.zero_grad()\n",
    "        outputs = model(images)\n",
    "        loss = criterion(outputs, labels)\n",
    "        loss.backward()\n",
    "        optimizer.step()\n",
    "\n",
    "    print(f\"Epoch {epoch+1}/{num_epochs}, Loss: {loss.item()}\")\n",
    "\n"
   ]
  },
  {
   "cell_type": "code",
   "execution_count": 10,
   "metadata": {},
   "outputs": [
    {
     "name": "stdout",
     "output_type": "stream",
     "text": [
      "Accuracy on test set: 91.86%\n"
     ]
    }
   ],
   "source": [
    "# Đánh giá mô hình trên tập kiểm thử\n",
    "model.eval()\n",
    "correct = 0\n",
    "total = 0\n",
    "\n",
    "with torch.no_grad():\n",
    "    for images, labels in test_loader:\n",
    "        images, labels = images.to(device), labels.to(device)\n",
    "        outputs = model(images)\n",
    "        _, predicted = torch.max(outputs, 1)\n",
    "        total += labels.size(0)\n",
    "        correct += (predicted == labels).sum().item()\n",
    "\n",
    "accuracy = correct / total\n",
    "print(f\"Accuracy on test set: {accuracy * 100:.2f}%\")"
   ]
  },
  {
   "cell_type": "code",
   "execution_count": 11,
   "metadata": {},
   "outputs": [],
   "source": [
    "\n",
    "torch.save(model.state_dict(), 'tranferlearnig_resnet18.pth')"
   ]
  },
  {
   "cell_type": "code",
   "execution_count": 12,
   "metadata": {},
   "outputs": [],
   "source": [
    "import matplotlib.pyplot as plt"
   ]
  },
  {
   "cell_type": "code",
   "execution_count": 21,
   "metadata": {},
   "outputs": [
    {
     "data": {
      "image/png": "[encoded data removed]",
      "text/plain": [
       "<Figure size 432x288 with 1 Axes>"
      ]
     },
     "metadata": {
      "needs_background": "light"
     },
     "output_type": "display_data"
    }
   ],
   "source": [
    "def predict_image(model, image1, transform):\n",
    "    # Áp dụng các biến đổi để chuẩn bị cho mô hình\n",
    "    # img = transform(image)\n",
    "    image1 = image1.unsqueeze(0)  # Thêm chiều batch\n",
    "\n",
    "    # Chuyển ảnh lên GPU nếu có\n",
    "    image1 = image1.to(device)\n",
    "\n",
    "    # Đặt mô hình vào chế độ đánh giá\n",
    "    model.eval()\n",
    "\n",
    "    # Dự đoán\n",
    "    with torch.no_grad():\n",
    "        output = model(image1)\n",
    "\n",
    "    # Lấy nhãn dự đoán\n",
    "    _, predicted = torch.max(output, 1)\n",
    "    predicted_class = predicted.item()\n",
    "\n",
    "    # Hiển thị ảnh và nhãn dự đoán\n",
    "    image1 = transforms.ToPILImage()(image1.squeeze(0).cpu())\n",
    "    plt.imshow(image1)\n",
    "    plt.title(f\"Predicted Label: {predicted_class}\")\n",
    "    plt.show()\n",
    "\n",
    "# DataLoader cho tập kiểm thử với batch size là 1\n",
    "test_loader = DataLoader(test_data, batch_size=1, shuffle=False)\n",
    "\n",
    "# Lấy ảnh từ tập kiểm thử\n",
    "test_image, true_label = next(iter(test_loader))\n",
    "\n",
    "# Gọi hàm dự đoán\n",
    "predict_image(model, test_image[0], transform)"
   ]
  }
 ],
 "metadata": {
  "kernelspec": {
   "display_name": "Python 3",
   "language": "python",
   "name": "python3"
  },
  "language_info": {
   "codemirror_mode": {
    "name": "ipython",
    "version": 3
   },
   "file_extension": ".py",
   "mimetype": "text/x-python",
   "name": "python",
   "nbconvert_exporter": "python",
   "pygments_lexer": "ipython3",
   "version": "3.9.13"
  }
 },
 "nbformat": 4,
 "nbformat_minor": 2
}
